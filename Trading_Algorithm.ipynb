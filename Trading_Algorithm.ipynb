{
  "cells": [
    {
      "cell_type": "code",
      "execution_count": null,
      "metadata": {
        "colab": {
          "base_uri": "https://localhost:8080/"
        },
        "id": "5aE6Pv2pnf-2",
        "outputId": "152b6e67-4085-456b-9e72-c122b3b93981"
      },
      "outputs": [
        {
          "name": "stdout",
          "output_type": "stream",
          "text": [
            "Collecting kmeans1d\n",
            "  Downloading kmeans1d-0.3.1-cp310-cp310-manylinux_2_17_x86_64.manylinux2014_x86_64.whl (102 kB)\n",
            "\u001b[2K     \u001b[90m━━━━━━━━━━━━━━━━━━━━━━━━━━━━━━━━━━━━━━━\u001b[0m \u001b[32m102.4/102.4 kB\u001b[0m \u001b[31m1.6 MB/s\u001b[0m eta \u001b[36m0:00:00\u001b[0m\n",
            "\u001b[?25hInstalling collected packages: kmeans1d\n",
            "Successfully installed kmeans1d-0.3.1\n"
          ]
        }
      ],
      "source": [
        "!pip install kmeans1d\n",
        "\n",
        "\n",
        "\n",
        "import numpy as np\n",
        "import random\n",
        "import multiprocessing\n",
        "import kmeans1d\n",
        "import yfinance as yf\n",
        "import math\n",
        "import matplotlib.pyplot as plt\n",
        "import itertools\n",
        "from sklearn.linear_model import LinearRegression\n",
        "\n",
        "\n"
      ]
    },
    {
      "cell_type": "code",
      "execution_count": null,
      "metadata": {
        "id": "B7iSMK-xCO4u"
      },
      "outputs": [],
      "source": [
        "###Hyperparameters\n",
        "\n",
        "NUM_PRICE_POINTS = 10\n",
        "\n",
        "PARAM_CONSTANT = 3\n",
        "\n",
        "PARAM_EQ_THRESH = 0.1\n",
        "\n",
        "NUM_PARAMS = NUM_PRICE_POINTS - PARAM_CONSTANT + 1\n",
        "\n",
        "PMF_FOR_PARAMETERS = increasing_distribution(NUM_PARAMS, 0.02)\n",
        "\n",
        "ER_THRESH = 0.7\n",
        "\n",
        "PORTFOLIO_LEN = 30\n",
        "\n",
        "BOOTSTRAP_SIZE = 400\n",
        "\n",
        "NUM_CLUSTERS = 3"
      ]
    },
    {
      "cell_type": "code",
      "execution_count": null,
      "metadata": {
        "colab": {
          "base_uri": "https://localhost:8080/"
        },
        "id": "NOq5JifiGven",
        "outputId": "7eb79ebe-6cea-4008-ab06-88487ee1f021"
      },
      "outputs": [
        {
          "name": "stderr",
          "output_type": "stream",
          "text": [
            "ERROR:yfinance:GTE: No price data found, symbol may be delisted (period=6mo)\n",
            "<ipython-input-28-9b67084c2884>:14: VisibleDeprecationWarning: Creating an ndarray from ragged nested sequences (which is a list-or-tuple of lists-or-tuples-or ndarrays with different lengths or shapes) is deprecated. If you meant to do this, you must specify 'dtype=object' when creating the ndarray.\n",
            "  PRICE_DATA = np.array([prices(security) for security in SYMBOLS])\n"
          ]
        }
      ],
      "source": [
        "SYMBOLS = np.array([\"AIMD\", \"BACK\", \"LINK\",\n",
        "                    \"AFRM\",  \"MCVT\", \"HUT\", \"BITF\", \"HIVE\", \"UPST\",\n",
        "                    \"SDIG\", \"COIN\", \"CFLT\", \"HCP\", \"TSP\", \"DGHI\", \"U\", \"COMP\", \"LSPD\",\n",
        "                    \"SEER\", \"GTLB\", \"WISH\", \"FNCH\", \"FUBO\", \"ACCD\", \"OPEN\", \"ASAN\", \"NXU\",\n",
        "                    \"GLBE\", \"NVTA\", \"IONQ\", \"CVNA\", \"DNA\", \"CETY\", \"RIVN\", \"FLNC\",\n",
        "                    \"MARA\", \"GREE\", \"RENT\", \"TASK\", \"VLD\", \"SKYT\", \"VTLE\", \"DOCN\", \"TOST\",\n",
        "                    \"SANA\", \"KC\", \"MDXG\", \"BRZE\", \"HYFM\", \"MNDY\", \"BKKT\", \"LAW\", \"REAL\", \"SLQT\",\n",
        "                    \"AI\", \"BMBL\", \"NVEI\", \"MTTR\", \"BIGC\", \"MQ\", \"CZR\", \"IREN\", \"MSGM\", \"AMPL\",\n",
        "                    \"STEM\", \"RBLX\", \"APP\", \"VRM\", \"ENVX\", \"RIOT\", \"W\", \"NVTS\", \"AUR\", \"LMND\", \"BHG\", \"S\",\n",
        "                    \"DLO\", \"WRBY\", \"SEV\", \"JMIA\", \"FTCI\", \"FLYW\", \"VERV\", \"GTE\", \"APPS\", \"FRSH\", \"USEA\", \"RXRX\", \"PATH\", \"ABSI\", \"SLI\"])\n",
        "\n",
        "\n",
        "\n",
        "PRICE_DATA = np.array([prices(security) for security in SYMBOLS])"
      ]
    },
    {
      "cell_type": "code",
      "execution_count": null,
      "metadata": {
        "colab": {
          "base_uri": "https://localhost:8080/",
          "height": 232
        },
        "id": "sDZM8QmAq7EC",
        "outputId": "31f30af4-9679-480b-c211-daa14f88cd27"
      },
      "outputs": [
        {
          "ename": "NameError",
          "evalue": "ignored",
          "output_type": "error",
          "traceback": [
            "\u001b[0;31m---------------------------------------------------------------------------\u001b[0m",
            "\u001b[0;31mNameError\u001b[0m                                 Traceback (most recent call last)",
            "\u001b[0;32m<ipython-input-13-9c60a60bc6d1>\u001b[0m in \u001b[0;36m<cell line: 1>\u001b[0;34m()\u001b[0m\n\u001b[0;32m----> 1\u001b[0;31m \u001b[0mprint\u001b[0m\u001b[0;34m(\u001b[0m\u001b[0mPMF_FOR_PARAMETERS\u001b[0m\u001b[0;34m)\u001b[0m\u001b[0;34m\u001b[0m\u001b[0;34m\u001b[0m\u001b[0m\n\u001b[0m\u001b[1;32m      2\u001b[0m \u001b[0;34m\u001b[0m\u001b[0m\n\u001b[1;32m      3\u001b[0m \u001b[0;34m\u001b[0m\u001b[0m\n\u001b[1;32m      4\u001b[0m \u001b[0ma\u001b[0m \u001b[0;34m=\u001b[0m \u001b[0mincreasing_distribution\u001b[0m\u001b[0;34m(\u001b[0m\u001b[0;36m26\u001b[0m\u001b[0;34m,\u001b[0m \u001b[0;36m0.02\u001b[0m\u001b[0;34m)\u001b[0m\u001b[0;34m\u001b[0m\u001b[0;34m\u001b[0m\u001b[0m\n\u001b[1;32m      5\u001b[0m \u001b[0;34m\u001b[0m\u001b[0m\n",
            "\u001b[0;31mNameError\u001b[0m: name 'PMF_FOR_PARAMETERS' is not defined"
          ]
        }
      ],
      "source": [
        "print(PMF_FOR_PARAMETERS)\n",
        "\n",
        "\n",
        "a = increasing_distribution(26, 0.02)\n",
        "\n",
        "x = [i for i in range(0,26)]\n",
        "plt.scatter(x, increasing_dist_with_softmax(26, 0.1))\n",
        "plt.scatter(x, a)\n",
        "plt.show()\n",
        "\n",
        "lengths = [len(sec) for sec in PRICE_DATA]\n",
        "m = np.max(lengths)\n",
        "\n",
        "\n",
        "for i in range(len(PRICE_DATA)):\n",
        "  if lengths[i] < m:\n",
        "    print(SYMBOLS[i])\n",
        "\n",
        "print(\"\")\n",
        "print(lengths)"
      ]
    },
    {
      "cell_type": "code",
      "execution_count": null,
      "metadata": {
        "colab": {
          "base_uri": "https://localhost:8080/",
          "height": 1000
        },
        "id": "5z6EaEkUIKIG",
        "outputId": "cbb64e66-648f-4aac-d606-0b1483ef4e52"
      },
      "outputs": [
        {
          "name": "stdout",
          "output_type": "stream",
          "text": [
            "SECURITIES: ['GREE' 'SDIG' 'RIVN' 'VRM' 'REAL' 'OPEN' 'IREN' 'ENVX' 'IONQ' 'CVNA'\n",
            " 'RIOT' 'HUT' 'HIVE' 'BKKT' 'FTCI' 'AI' 'BITF' 'COIN' 'UPST' 'MARA' 'DOCN'\n",
            " 'FUBO' 'AUR' 'APPS' 'STEM' 'NVTS' 'DGHI' 'FNCH' 'JMIA' 'DNA']\n",
            "Best Profit seen so far updated: 2.628220084061925%. ER: 31.579552396163713\n",
            "Best ER seen so far updated:  31.579552396163713. Profit: 2.628220084061925%\n",
            "Highest seen ER aligned with highest seen Profit 1 times so far.\n",
            "Best ER seen so far updated:  124.26333860668743. Profit: -4.104520602032858%\n",
            "Best Profit seen so far updated: 10.179967928813761%. ER: 66.12651475572466\n",
            "Best ER seen so far updated:  126.97719868832873. Profit: -0.39834228302768415%\n",
            "Best Profit seen so far updated: 10.269441770719787%. ER: 86.40708055595113\n",
            "Best Profit seen so far updated: 15.135548805506168%. ER: 59.098743278560065\n",
            "Best Profit seen so far updated: 17.28473810870788%. ER: 69.94100727264444\n",
            "Best Profit seen so far updated: 19.57579195625211%. ER: 79.20926882909254\n",
            "Best Profit seen so far updated: 25.781660845892002%. ER: 81.14148291123101\n",
            "Best ER seen so far updated:  143.4543132841039. Profit: 0.24945005482498675%\n",
            "Best ER seen so far updated:  147.81194170244348. Profit: 2.2600973524871284%\n",
            "Best Profit seen so far updated: 26.852310079294078%. ER: 72.44166687248051\n",
            "Best ER seen so far updated:  159.3735684594773. Profit: 0.9986123122818845%\n",
            "Best ER seen so far updated:  198.96161385759157. Profit: -2.9980718005633795%\n"
          ]
        },
        {
          "data": {
            "image/png": "[encoded data removed]",
            "text/plain": [
              "<Figure size 640x480 with 1 Axes>"
            ]
          },
          "metadata": {},
          "output_type": "display_data"
        },
        {
          "name": "stdout",
          "output_type": "stream",
          "text": [
            "Coefficient of determination between ER and Profit: 0.05516689902556027\n",
            "MAX PROFIT WEEK 0 + : (array([0.06, 0.  , 0.  , 0.  , 0.08, 0.  , 0.  , 0.  , 0.  , 0.  , 0.  ,\n",
            "       0.  , 0.  , 0.  , 0.  , 0.  , 0.  , 0.18, 0.  , 0.  , 0.  , 0.16,\n",
            "       0.  , 0.16, 0.  , 0.  , 0.2 , 0.  , 0.06, 0.1 ]), 72.44166687248051, 26.852310079294078)\n",
            "MAX ER WEEK 0 + : (array([0.1 , 0.12, 0.2 , 0.24, 0.  , 0.  , 0.  , 0.  , 0.  , 0.  , 0.  ,\n",
            "       0.  , 0.  , 0.  , 0.  , 0.  , 0.14, 0.  , 0.  , 0.  , 0.  , 0.08,\n",
            "       0.  , 0.02, 0.  , 0.  , 0.  , 0.  , 0.  , 0.1 ]), 198.96161385759157, -2.9980718005633795)\n",
            "Difference between our profit and optimal profit this week: -995.6526682999438\n",
            "Profits so far: [-2.9980718005633795]\n",
            "Optimal profits so far: [26.852310079294078]\n",
            "\n",
            "SECURITIES: ['GREE' 'RXRX' 'ABSI' 'VRM' 'CVNA' 'BKKT' 'SDIG' 'WISH' 'TSP' 'DNA' 'FUBO'\n",
            " 'DGHI' 'DOCN' 'RIOT' 'SEER' 'BMBL' 'AIMD' 'APPS' 'JMIA' 'UPST' 'HYFM'\n",
            " 'IREN' 'NVTA' 'STEM' 'TOST' 'NVEI' 'APP' 'DLO' 'WRBY' 'ENVX']\n"
          ]
        },
        {
          "ename": "IndexError",
          "evalue": "ignored",
          "output_type": "error",
          "traceback": [
            "\u001b[0;31m---------------------------------------------------------------------------\u001b[0m",
            "\u001b[0;31mIndexError\u001b[0m                                Traceback (most recent call last)",
            "\u001b[0;32m<ipython-input-23-b4579aa3d7bd>\u001b[0m in \u001b[0;36m<cell line: 96>\u001b[0;34m()\u001b[0m\n\u001b[1;32m     94\u001b[0m   \u001b[0;32mreturn\u001b[0m\u001b[0;34m\u001b[0m\u001b[0;34m\u001b[0m\u001b[0m\n\u001b[1;32m     95\u001b[0m \u001b[0;34m\u001b[0m\u001b[0m\n\u001b[0;32m---> 96\u001b[0;31m \u001b[0mbacktest\u001b[0m\u001b[0;34m(\u001b[0m\u001b[0;34m)\u001b[0m\u001b[0;34m\u001b[0m\u001b[0;34m\u001b[0m\u001b[0m\n\u001b[0m",
            "\u001b[0;32m<ipython-input-23-b4579aa3d7bd>\u001b[0m in \u001b[0;36mbacktest\u001b[0;34m()\u001b[0m\n\u001b[1;32m     30\u001b[0m \u001b[0;34m\u001b[0m\u001b[0m\n\u001b[1;32m     31\u001b[0m     \u001b[0minput_prices\u001b[0m \u001b[0;34m=\u001b[0m \u001b[0;34m[\u001b[0m\u001b[0mprice\u001b[0m\u001b[0;34m[\u001b[0m\u001b[0mi\u001b[0m \u001b[0;34m:\u001b[0m \u001b[0mi\u001b[0m \u001b[0;34m+\u001b[0m \u001b[0mNUM_PRICE_POINTS\u001b[0m \u001b[0;34m+\u001b[0m \u001b[0;36m1\u001b[0m\u001b[0;34m]\u001b[0m \u001b[0;32mfor\u001b[0m \u001b[0mprice\u001b[0m \u001b[0;32min\u001b[0m \u001b[0msecurities_of_the_week\u001b[0m\u001b[0;34m]\u001b[0m\u001b[0;34m\u001b[0m\u001b[0;34m\u001b[0m\u001b[0m\n\u001b[0;32m---> 32\u001b[0;31m     \u001b[0mexit\u001b[0m \u001b[0;34m=\u001b[0m \u001b[0;34m[\u001b[0m\u001b[0mprice\u001b[0m\u001b[0;34m[\u001b[0m\u001b[0mi\u001b[0m \u001b[0;34m+\u001b[0m \u001b[0mNUM_PRICE_POINTS\u001b[0m \u001b[0;34m+\u001b[0m \u001b[0mexit_interval\u001b[0m\u001b[0;34m]\u001b[0m \u001b[0;32mfor\u001b[0m \u001b[0mprice\u001b[0m \u001b[0;32min\u001b[0m \u001b[0msecurities_of_the_week\u001b[0m\u001b[0;34m]\u001b[0m\u001b[0;34m\u001b[0m\u001b[0;34m\u001b[0m\u001b[0m\n\u001b[0m\u001b[1;32m     33\u001b[0m     \u001b[0;32mfor\u001b[0m \u001b[0mportfolio\u001b[0m \u001b[0;32min\u001b[0m \u001b[0mportfolio_vectors\u001b[0m\u001b[0;34m:\u001b[0m\u001b[0;34m\u001b[0m\u001b[0;34m\u001b[0m\u001b[0m\n\u001b[1;32m     34\u001b[0m \u001b[0;34m\u001b[0m\u001b[0m\n",
            "\u001b[0;32m<ipython-input-23-b4579aa3d7bd>\u001b[0m in \u001b[0;36m<listcomp>\u001b[0;34m(.0)\u001b[0m\n\u001b[1;32m     30\u001b[0m \u001b[0;34m\u001b[0m\u001b[0m\n\u001b[1;32m     31\u001b[0m     \u001b[0minput_prices\u001b[0m \u001b[0;34m=\u001b[0m \u001b[0;34m[\u001b[0m\u001b[0mprice\u001b[0m\u001b[0;34m[\u001b[0m\u001b[0mi\u001b[0m \u001b[0;34m:\u001b[0m \u001b[0mi\u001b[0m \u001b[0;34m+\u001b[0m \u001b[0mNUM_PRICE_POINTS\u001b[0m \u001b[0;34m+\u001b[0m \u001b[0;36m1\u001b[0m\u001b[0;34m]\u001b[0m \u001b[0;32mfor\u001b[0m \u001b[0mprice\u001b[0m \u001b[0;32min\u001b[0m \u001b[0msecurities_of_the_week\u001b[0m\u001b[0;34m]\u001b[0m\u001b[0;34m\u001b[0m\u001b[0;34m\u001b[0m\u001b[0m\n\u001b[0;32m---> 32\u001b[0;31m     \u001b[0mexit\u001b[0m \u001b[0;34m=\u001b[0m \u001b[0;34m[\u001b[0m\u001b[0mprice\u001b[0m\u001b[0;34m[\u001b[0m\u001b[0mi\u001b[0m \u001b[0;34m+\u001b[0m \u001b[0mNUM_PRICE_POINTS\u001b[0m \u001b[0;34m+\u001b[0m \u001b[0mexit_interval\u001b[0m\u001b[0;34m]\u001b[0m \u001b[0;32mfor\u001b[0m \u001b[0mprice\u001b[0m \u001b[0;32min\u001b[0m \u001b[0msecurities_of_the_week\u001b[0m\u001b[0;34m]\u001b[0m\u001b[0;34m\u001b[0m\u001b[0;34m\u001b[0m\u001b[0m\n\u001b[0m\u001b[1;32m     33\u001b[0m     \u001b[0;32mfor\u001b[0m \u001b[0mportfolio\u001b[0m \u001b[0;32min\u001b[0m \u001b[0mportfolio_vectors\u001b[0m\u001b[0;34m:\u001b[0m\u001b[0;34m\u001b[0m\u001b[0;34m\u001b[0m\u001b[0m\n\u001b[1;32m     34\u001b[0m \u001b[0;34m\u001b[0m\u001b[0m\n",
            "\u001b[0;31mIndexError\u001b[0m: index 20 is out of bounds for axis 0 with size 20"
          ]
        }
      ],
      "source": [
        "def backtest():\n",
        "\n",
        "  ###ASSUMPTIONS: We enter the position at the price indexed by i + num_price_points. If we're using 20 price points to make our prediction, we send in\n",
        "  ### 21 prices and consider the 21st to be our buy price. Exit is price is variable and sent in as a separate argument.\n",
        "\n",
        "  cumulative_ER_based_profit = []\n",
        "  cumulative_optimal_profit = []\n",
        "  exit_interval = 5\n",
        "  for i in range(0, len(PRICE_DATA[0]), (exit_interval)): ###Strategy starts when we have num_price_points weeks of data\n",
        "\n",
        "    scores = [SecurityScore(PRICE_DATA[j][i : i + NUM_PRICE_POINTS + 1]) for j in range(0,len(PRICE_DATA))]\n",
        "    ### Calculate scores for the securities based off of this week's data\n",
        "\n",
        "    sorted_indeces = np.argsort(scores)[::-1][:PORTFOLIO_LEN]\n",
        "    securities_of_the_week = PRICE_DATA[sorted_indeces]\n",
        "    symbols = SYMBOLS[sorted_indeces]\n",
        "    print(\"SECURITIES: \" + str(symbols))\n",
        "\n",
        "    running_max_overall = ((), 0, 0)\n",
        "    running_max_ER = ((), 0, 0)\n",
        "    portfolio_vectors = generate_portfolios_with_zeros(PORTFOLIO_LEN, 8, 20000, 15)\n",
        "    ER_for_regression = []\n",
        "    Profit_for_regression = []\n",
        "\n",
        "    coefficients = []\n",
        "    unoptimalities = []\n",
        "\n",
        "    cc = 0\n",
        "\n",
        "\n",
        "    input_prices = [price[i : i + NUM_PRICE_POINTS + 1] for price in securities_of_the_week]\n",
        "    exit = [price[i + NUM_PRICE_POINTS + exit_interval] for price in securities_of_the_week]\n",
        "    for portfolio in portfolio_vectors:\n",
        "\n",
        "      er_update = False\n",
        "      profit_update = False\n",
        "\n",
        "      ret_tuple = ERandProbability_BACKTEST(input_prices, portfolio, exit)\n",
        "      if ret_tuple is None:\n",
        "        continue\n",
        "\n",
        "      ER_for_regression.append(ret_tuple[1])\n",
        "      Profit_for_regression.append(ret_tuple[2])\n",
        "\n",
        "\n",
        "      if (ret_tuple[2] > running_max_overall[2]):\n",
        "\n",
        "        profit_update = True\n",
        "        running_max_overall = ret_tuple\n",
        "        print(f\"Best Profit seen so far updated: {ret_tuple[2]}%. ER: {ret_tuple[1]}\")\n",
        "\n",
        "      if (ret_tuple[1] > running_max_ER[1]):\n",
        "\n",
        "        er_update = True\n",
        "        running_max_ER = ret_tuple\n",
        "        print(f\"Best ER seen so far updated:  {ret_tuple[1]}. Profit: {ret_tuple[2]}%\")\n",
        "\n",
        "      if (er_update and profit_update):\n",
        "\n",
        "        cc += 1\n",
        "        print(\"Highest seen ER aligned with highest seen Profit \" + str(cc) + \" times so far.\")\n",
        "\n",
        "    if (len(ER_for_regression) == 0):\n",
        "      print(\"Shit market\")\n",
        "      continue\n",
        "    x = np.array(ER_for_regression)\n",
        "    y = np.array(Profit_for_regression)\n",
        "\n",
        "    plt.scatter(x,y)\n",
        "    plt.show()\n",
        "    x = x.reshape((-1,1))\n",
        "    model = LinearRegression()\n",
        "    model.fit(x,y)\n",
        "    r_sq = model.score(x, y)\n",
        "    coefficients.append(r_sq)\n",
        "    cumulative_ER_based_profit.append(running_max_ER[2])\n",
        "    cumulative_optimal_profit.append(running_max_overall[2])\n",
        "    print(f\"Coefficient of determination between ER and Profit: {r_sq}\")\n",
        "    print(f\"MAX PROFIT WEEK {i} + : {running_max_overall}\")\n",
        "    print(f\"MAX ER WEEK {i} + : {running_max_ER}\")\n",
        "    unop = ((running_max_overall[2] - running_max_ER[2])/running_max_ER[2])*100\n",
        "    unoptimalities.append(unop)\n",
        "    print(f\"Difference between our profit and optimal profit this week: {unop}\")\n",
        "    print(f\"Profits so far: {cumulative_ER_based_profit}\")\n",
        "    print(f\"Optimal profits so far: {cumulative_optimal_profit}\")\n",
        "\n",
        "\n",
        "    print(\"\")\n",
        "\n",
        "\n",
        "\n",
        "  print(f\"Mean difference between our profit and optimal portfolio profit: + {np.mean(unoptimalities)}\")\n",
        "  print(np.mean(coefficients))\n",
        "  return\n",
        "\n",
        "backtest()"
      ]
    },
    {
      "cell_type": "code",
      "execution_count": null,
      "metadata": {
        "cellView": "form",
        "id": "rtjLAoRbtM_l"
      },
      "outputs": [],
      "source": [
        "#@title Expected Return through Dot Product\n",
        "def ERandProbability(price_data, portfolio):\n",
        "\n",
        "  if len(price_data) != len(portfolio):\n",
        "      raise ValueError(\"Number of arrays must match the number of weights.\")\n",
        "\n",
        "\n",
        "  ###REDACTED \n"
      ]
    },
    {
      "cell_type": "code",
      "execution_count": null,
      "metadata": {
        "id": "doQcKf_p6fgy"
      },
      "outputs": [],
      "source": [
        "#@title Expected Return Backtest\n",
        "def ERandProbability_BACKTEST(price_data, portfolio, exit):\n",
        "\n",
        "  if len(price_data) != len(portfolio):\n",
        "      raise ValueError(\"Number of arrays must match the number of weights.\")\n",
        "\n",
        "\n",
        "  portfolio_prices = np.sum([w * array for w, array in zip(portfolio, price_data)], axis=0)\n",
        "  exit_price = np.sum([w * array for w, array in zip(portfolio, exit)], axis=0)\n",
        "\n",
        "  buy_price = portfolio_prices[-1]\n",
        "  portfolio_prices = portfolio_prices[:-1]\n",
        "  profit = ((exit_price - buy_price)/buy_price) * 100\n",
        "\n",
        "\n",
        "\n",
        "\n",
        "  ##REDACTED\n",
        "\n",
        "\n",
        "  ER = np.array(centroids)\n",
        "  prob = np.array([counts[i]/len(clusters) for i in range(0, NUM_CLUSTERS)])\n",
        "  param_validity_cutoff = int(np.rint(len(data) / 3))\n",
        "\n",
        "  if (prob[densest_band] < 0.50):\n",
        "    return None\n",
        "  if np.sum(data[:-(param_validity_cutoff)]) < 0:\n",
        "    return None\n",
        "  else:\n",
        "\n",
        "    score = np.dot(ER, prob)\n",
        "    ###score = ER[densest_band] * prob[densest_band]\n",
        "    ###score = ER[densest_band]\n",
        "    return (portfolio, score, profit)"
      ]
    },
    {
      "cell_type": "code",
      "execution_count": null,
      "metadata": {
        "id": "TMz44qLYQdrA"
      },
      "outputs": [],
      "source": [
        "#@title Security Score\n",
        "def SecurityScore(prices):\n",
        "\n",
        "  ###REDACTED\n"
      ]
    },
    {
      "cell_type": "code",
      "execution_count": null,
      "metadata": {
        "id": "PAFvupcuqrGX"
      },
      "outputs": [],
      "source": [
        "#@title Parameter Generation\n",
        "def generate_parameters(prices, k, thresh):\n",
        "    ###REDACTED\n"
      ]
    },
    {
      "cell_type": "code",
      "execution_count": null,
      "metadata": {
        "id": "sZm7-nIcsqSx"
      },
      "outputs": [],
      "source": [
        "#@title Multiplier Legend\n",
        "def multiplier(data, thresh):\n",
        "  ###REDACTED\n"
      ]
    },
    {
      "cell_type": "code",
      "execution_count": null,
      "metadata": {
        "id": "uqRyThEYzs8F"
      },
      "outputs": [],
      "source": [
        "def bootstrap(data, num_iter, px):\n",
        "  ret = np.empty(shape=num_iter)\n",
        "  for i in range(0, num_iter):\n",
        "    ret[i] = np.sum(np.random.choice(data, len(data), px))\n",
        "  return ret"
      ]
    },
    {
      "cell_type": "markdown",
      "metadata": {
        "id": "BC58rt133T_t"
      },
      "source": [
        "Clustering: using kmeans"
      ]
    },
    {
      "cell_type": "code",
      "execution_count": null,
      "metadata": {
        "id": "rCZwqpRb2zVz"
      },
      "outputs": [],
      "source": [
        "def cluster(data, num_clusters):\n",
        "  return kmeans1d.cluster(data, num_clusters)"
      ]
    },
    {
      "cell_type": "code",
      "execution_count": null,
      "metadata": {
        "id": "7alen7ix21-y"
      },
      "outputs": [],
      "source": [
        "def prices(security):\n",
        "  return np.array(yf.Ticker(security).history(period=\"6mo\", interval=\"1d\", actions=False)['Open'].tolist())[20:]\n",
        "\n"
      ]
    },
    {
      "cell_type": "markdown",
      "metadata": {
        "id": "7PwX-daccG5U"
      },
      "source": [
        "Increasing probability distribution on k elements. smaller w --> distribution is closer to uniform\n",
        "\n",
        "\n",
        "\n",
        "\n"
      ]
    },
    {
      "cell_type": "code",
      "execution_count": null,
      "metadata": {
        "id": "9_gw3H_QcGDB"
      },
      "outputs": [],
      "source": [
        "#@title Generate our Increasing Probability Distribution\n",
        "def increasing_distribution(k, w):\n",
        "  assert (w < (1/k))\n",
        "  start = [1/k for i in range(0,k)]\n",
        "  for i in range(0,k):\n",
        "\n",
        "    start[i] -= w\n",
        "    for j in range(i+1,k):\n",
        "      start[j] += (w/(k-i))\n",
        "\n",
        "  correction_factor = (1 - sum(start))/k\n",
        "  dist = []\n",
        "  for elt in start:\n",
        "    dist.append((elt+correction_factor))\n",
        "\n",
        "  x = dist\n",
        "  y = [i for i in range(len(dist))]\n",
        "\n",
        "  return dist\n",
        "\n",
        "\n"
      ]
    },
    {
      "cell_type": "code",
      "execution_count": null,
      "metadata": {
        "id": "aPq0y12hLojb"
      },
      "outputs": [],
      "source": [
        "from numpy.lib import arrayterator\n",
        "#@title Generate Portfolio Vectors\n",
        "def generate_portfolios(size, lim, num_portfolios):\n",
        "    result = []\n",
        "    assert(lim < 50)\n",
        "    while len(result) < num_portfolios:\n",
        "        array = np.random.randint(3, lim, size=size) * 2 ### any given asset holds at most lim * 2)% share, all quantities are even and stay even.\n",
        "        if np.sum(array) < 100:\n",
        "          array += 10\n",
        "        while np.sum(array) > 100:\n",
        "            idx = np.random.randint(0, size)\n",
        "            if array[idx] > 2:\n",
        "              array[idx] -= 2\n",
        "\n",
        "        assert (np.sum(array) == 100)\n",
        "        result.append(array/100)\n",
        "\n",
        "    result = np.array(result)\n",
        "    result = np.unique(result, axis=0)\n",
        "\n",
        "\n",
        "    return result\n",
        "\n",
        "\n",
        "def generate_portfolios_with_zeros(total_size, num_non_zeros, num_portfolios, lim):\n",
        "  result = []\n",
        "  while len(result) < num_portfolios:\n",
        "    portfolio = np.random.randint(3, lim, size=num_non_zeros) * 2 ### any given asset holds at most lim * 2)% share, all quantities are even and stay even.\n",
        "    while (np.sum(portfolio) < 100):\n",
        "      portfolio += 10\n",
        "    while np.sum(portfolio) > 100:\n",
        "        idx = np.random.randint(0, num_non_zeros)\n",
        "        if portfolio[idx] > 2:\n",
        "          portfolio[idx] -= 2\n",
        "\n",
        "    assert (np.sum(portfolio) == 100)\n",
        "    nonzeros = portfolio/100\n",
        "\n",
        "    tmp = np.zeros(total_size)\n",
        "    non_zero_indeces = random.sample(range(0, total_size), num_non_zeros)\n",
        "\n",
        "\n",
        "    i=0\n",
        "    for idx in non_zero_indeces:\n",
        "      tmp[idx] = nonzeros[i]\n",
        "      i+=1\n",
        "\n",
        "\n",
        "    result.append(tmp)\n",
        "\n",
        "\n",
        "  ###result = np.array(result)\n",
        "  ###result = np.unique(result, axis=0)\n",
        "  return result\n",
        "\n",
        "\n",
        "\n",
        "\n"
      ]
    },
    {
      "cell_type": "code",
      "execution_count": null,
      "metadata": {
        "id": "grOc75SiBs2J"
      },
      "outputs": [],
      "source": [
        "def softmax(x):\n",
        "  return(np.exp(x - np.max(x)) / np.exp(x - np.max(x)).sum())\n",
        "\n",
        "def increasing_dist_with_softmax(k, step):\n",
        "  arr = np.zeros(k)\n",
        "  arr[0] = 1.0\n",
        "  for i in range(1, k):\n",
        "    arr[i] = arr[i-1] + step\n",
        "\n",
        "  ret = softmax(arr)\n",
        "  error = 1 - np.sum(ret)\n",
        "  ret[-1] = ret[-1] + error\n",
        "\n",
        "  assert np.sum(ret) == 1\n",
        "  return list(ret)\n",
        "\n"
      ]
    }
  ],
  "metadata": {
    "colab": {
      "provenance": []
    },
    "kernelspec": {
      "display_name": "Python 3",
      "name": "python3"
    },
    "language_info": {
      "name": "python"
    }
  },
  "nbformat": 4,
  "nbformat_minor": 0
}
